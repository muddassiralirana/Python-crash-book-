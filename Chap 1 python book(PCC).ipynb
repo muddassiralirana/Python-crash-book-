{
 "cells": [
  {
   "cell_type": "markdown",
   "metadata": {},
   "source": [
    "## CHAPTER 1"
   ]
  },
  {
   "cell_type": "markdown",
   "metadata": {},
   "source": [
    "## PRINT\n",
    "HOW TO PRINT IN PYTHON?"
   ]
  },
  {
   "cell_type": "code",
   "execution_count": 3,
   "metadata": {},
   "outputs": [
    {
     "name": "stdout",
     "output_type": "stream",
     "text": [
      "muddassir ali rana\n",
      "123\n",
      "23.02\n"
     ]
    }
   ],
   "source": [
    "print(\"muddassir ali rana\")   #print string value\n",
    "print(123)                    #print integer value\n",
    "print(23.02)                  #print float value"
   ]
  },
  {
   "cell_type": "markdown",
   "metadata": {},
   "source": [
    "## print seprators"
   ]
  },
  {
   "cell_type": "code",
   "execution_count": 17,
   "metadata": {},
   "outputs": [
    {
     "name": "stdout",
     "output_type": "stream",
     "text": [
      "pakistan is powerfull country\n",
      "pakistan  is  powerfull  country\n",
      "pakistan # is # powerfull # country\n"
     ]
    }
   ],
   "source": [
    "print(\"pakistan\",\"is\",\"powerfull\",\"country\")   #without seprator\n",
    "print(\"pakistan\",\"is\",\"powerfull\",\"country\", sep=\"  \")   #with seprator\n",
    "print(\"pakistan\",\"is\",\"powerfull\",\"country\", sep=\" # \")   #with seprator "
   ]
  },
  {
   "cell_type": "markdown",
   "metadata": {},
   "source": [
    "## end=\"\" seprator"
   ]
  },
  {
   "cell_type": "code",
   "execution_count": 27,
   "metadata": {},
   "outputs": [
    {
     "name": "stdout",
     "output_type": "stream",
     "text": [
      "fahad\n",
      "123\n"
     ]
    },
    {
     "data": {
      "text/plain": [
       "(None, None)"
      ]
     },
     "execution_count": 27,
     "metadata": {},
     "output_type": "execute_result"
    }
   ],
   "source": [
    "print(\"fahad\", end=\"\\n\"), print(123)"
   ]
  },
  {
   "cell_type": "markdown",
   "metadata": {},
   "source": [
    "## comments"
   ]
  },
  {
   "cell_type": "code",
   "execution_count": 28,
   "metadata": {},
   "outputs": [],
   "source": [
    "# # Comments in Python begin with a hash mark ( # ) \n",
    "# and whitespace character and continue to the end of the line.\n",
    "# Because comments do not execute, when you run a program you will \n",
    "# not see any indication of the comment there. "
   ]
  },
  {
   "cell_type": "code",
   "execution_count": null,
   "metadata": {},
   "outputs": [],
   "source": []
  }
 ],
 "metadata": {
  "kernelspec": {
   "display_name": "Python 3",
   "language": "python",
   "name": "python3"
  },
  "language_info": {
   "codemirror_mode": {
    "name": "ipython",
    "version": 3
   },
   "file_extension": ".py",
   "mimetype": "text/x-python",
   "name": "python",
   "nbconvert_exporter": "python",
   "pygments_lexer": "ipython3",
   "version": "3.7.6"
  }
 },
 "nbformat": 4,
 "nbformat_minor": 4
}
