{
 "cells": [
  {
   "cell_type": "markdown",
   "metadata": {},
   "source": [
    "# If Statements"
   ]
  },
  {
   "cell_type": "code",
   "execution_count": 6,
   "metadata": {},
   "outputs": [
    {
     "name": "stdout",
     "output_type": "stream",
     "text": [
      "BMW\n",
      "Toyota\n",
      "Suzuki\n",
      "Proton\n"
     ]
    }
   ],
   "source": [
    "cars=[\"bmw\",\"toyota\",\"suzuki\",\"proton\"]\n",
    "for car in cars:\n",
    "    if car == \"bmw\":\n",
    "        print(car.upper())\n",
    "    else :\n",
    "        print(car.title())"
   ]
  },
  {
   "cell_type": "code",
   "execution_count": 7,
   "metadata": {},
   "outputs": [],
   "source": [
    "car=\"bmw\""
   ]
  },
  {
   "cell_type": "code",
   "execution_count": 8,
   "metadata": {},
   "outputs": [
    {
     "data": {
      "text/plain": [
       "True"
      ]
     },
     "execution_count": 8,
     "metadata": {},
     "output_type": "execute_result"
    }
   ],
   "source": [
    "car==\"bmw\"\n"
   ]
  },
  {
   "cell_type": "markdown",
   "metadata": {},
   "source": [
    "# Checking for Inequality"
   ]
  },
  {
   "cell_type": "code",
   "execution_count": 16,
   "metadata": {},
   "outputs": [
    {
     "name": "stdout",
     "output_type": "stream",
     "text": [
      "ok its done\n"
     ]
    }
   ],
   "source": [
    "req_top=\"mashroom\"\n",
    "if req_top !=\"bbq\":\n",
    "    print(\"ok its done\")"
   ]
  },
  {
   "cell_type": "code",
   "execution_count": 17,
   "metadata": {},
   "outputs": [
    {
     "name": "stdout",
     "output_type": "stream",
     "text": [
      "sorry\n"
     ]
    }
   ],
   "source": [
    "req_top=\"mashroom\"\n",
    "if req_top ==\"bbq\":\n",
    "    print(\"ok its done\")\n",
    "else:\n",
    "    print(\"sorry\")"
   ]
  },
  {
   "cell_type": "markdown",
   "metadata": {},
   "source": [
    "# Numerical Comparisons"
   ]
  },
  {
   "cell_type": "code",
   "execution_count": 2,
   "metadata": {},
   "outputs": [
    {
     "data": {
      "text/plain": [
       "False"
      ]
     },
     "execution_count": 2,
     "metadata": {},
     "output_type": "execute_result"
    }
   ],
   "source": [
    "value=17\n",
    "\n",
    "value==18"
   ]
  },
  {
   "cell_type": "code",
   "execution_count": 3,
   "metadata": {},
   "outputs": [
    {
     "data": {
      "text/plain": [
       "True"
      ]
     },
     "execution_count": 3,
     "metadata": {},
     "output_type": "execute_result"
    }
   ],
   "source": [
    "value!=18"
   ]
  },
  {
   "cell_type": "code",
   "execution_count": 4,
   "metadata": {},
   "outputs": [
    {
     "data": {
      "text/plain": [
       "True"
      ]
     },
     "execution_count": 4,
     "metadata": {},
     "output_type": "execute_result"
    }
   ],
   "source": [
    "value<=18"
   ]
  },
  {
   "cell_type": "code",
   "execution_count": 5,
   "metadata": {},
   "outputs": [
    {
     "data": {
      "text/plain": [
       "False"
      ]
     },
     "execution_count": 5,
     "metadata": {},
     "output_type": "execute_result"
    }
   ],
   "source": [
    "value>=18"
   ]
  },
  {
   "cell_type": "code",
   "execution_count": 6,
   "metadata": {},
   "outputs": [
    {
     "name": "stdout",
     "output_type": "stream",
     "text": [
      "work done\n"
     ]
    }
   ],
   "source": [
    "if value !=18:\n",
    "    print(\"work done\")\n",
    "else:\n",
    "    print(\"wrong\")"
   ]
  },
  {
   "cell_type": "markdown",
   "metadata": {},
   "source": [
    "# Checking Multiple Conditions"
   ]
  },
  {
   "cell_type": "code",
   "execution_count": 15,
   "metadata": {},
   "outputs": [],
   "source": [
    "value =18"
   ]
  },
  {
   "cell_type": "code",
   "execution_count": 16,
   "metadata": {},
   "outputs": [
    {
     "data": {
      "text/plain": [
       "False"
      ]
     },
     "execution_count": 16,
     "metadata": {},
     "output_type": "execute_result"
    }
   ],
   "source": [
    "value>=21 and value<=21"
   ]
  },
  {
   "cell_type": "code",
   "execution_count": 17,
   "metadata": {},
   "outputs": [
    {
     "data": {
      "text/plain": [
       "True"
      ]
     },
     "execution_count": 17,
     "metadata": {},
     "output_type": "execute_result"
    }
   ],
   "source": [
    "value>=21 or value<=21"
   ]
  },
  {
   "cell_type": "markdown",
   "metadata": {},
   "source": [
    "# Checking Whether a Value Is in a List"
   ]
  },
  {
   "cell_type": "code",
   "execution_count": 18,
   "metadata": {},
   "outputs": [
    {
     "data": {
      "text/plain": [
       "True"
      ]
     },
     "execution_count": 18,
     "metadata": {},
     "output_type": "execute_result"
    }
   ],
   "source": [
    "a=[1,2,3,4,55,64]\n",
    "2 in a"
   ]
  },
  {
   "cell_type": "code",
   "execution_count": 19,
   "metadata": {},
   "outputs": [
    {
     "data": {
      "text/plain": [
       "False"
      ]
     },
     "execution_count": 19,
     "metadata": {},
     "output_type": "execute_result"
    }
   ],
   "source": [
    "65 in a"
   ]
  },
  {
   "cell_type": "markdown",
   "metadata": {},
   "source": [
    "# Checking Whether a Value Is Not in a List"
   ]
  },
  {
   "cell_type": "code",
   "execution_count": 20,
   "metadata": {},
   "outputs": [
    {
     "data": {
      "text/plain": [
       "True"
      ]
     },
     "execution_count": 20,
     "metadata": {},
     "output_type": "execute_result"
    }
   ],
   "source": [
    "65 not in a"
   ]
  },
  {
   "cell_type": "code",
   "execution_count": 21,
   "metadata": {},
   "outputs": [
    {
     "data": {
      "text/plain": [
       "False"
      ]
     },
     "execution_count": 21,
     "metadata": {},
     "output_type": "execute_result"
    }
   ],
   "source": [
    "2 not in a"
   ]
  },
  {
   "cell_type": "code",
   "execution_count": 22,
   "metadata": {},
   "outputs": [
    {
     "name": "stdout",
     "output_type": "stream",
     "text": [
      "Is car == 'subaru'? I predict True.\n",
      "True\n",
      "\n",
      "Is car == 'audi'? I predict False.\n",
      "False\n"
     ]
    }
   ],
   "source": [
    "car = 'subaru'\n",
    "print(\"Is car == 'subaru'? I predict True.\")\n",
    "print(car == 'subaru')\n",
    "print(\"\\nIs car == 'audi'? I predict False.\")\n",
    "print(car == 'audi')"
   ]
  },
  {
   "cell_type": "code",
   "execution_count": 23,
   "metadata": {},
   "outputs": [
    {
     "name": "stdout",
     "output_type": "stream",
     "text": [
      "i predict True\n"
     ]
    }
   ],
   "source": [
    "car=\"bmw\"\n",
    "if car==\"bmw\" :\n",
    "    print(\"i predict True\")\n",
    "else :\n",
    "    print(\"false\")"
   ]
  },
  {
   "cell_type": "markdown",
   "metadata": {},
   "source": [
    "# if Statements"
   ]
  },
  {
   "cell_type": "code",
   "execution_count": 25,
   "metadata": {},
   "outputs": [
    {
     "name": "stdout",
     "output_type": "stream",
     "text": [
      "you are eligible for cast a vote\n"
     ]
    }
   ],
   "source": [
    "age=19\n",
    "if age>=18:\n",
    "    print(\"you are eligible for cast a vote\")"
   ]
  },
  {
   "cell_type": "code",
   "execution_count": 26,
   "metadata": {},
   "outputs": [
    {
     "name": "stdout",
     "output_type": "stream",
     "text": [
      "sory not eligible\n"
     ]
    }
   ],
   "source": [
    "age =17\n",
    "if age>=18:\n",
    "    print(\"you are eligible for cast a vote\")\n",
    "else:\n",
    "    print(\"sory not eligible\")"
   ]
  },
  {
   "cell_type": "code",
   "execution_count": 29,
   "metadata": {},
   "outputs": [
    {
     "name": "stdout",
     "output_type": "stream",
     "text": [
      "enter age : 5\n",
      "yor fee is $2\n"
     ]
    }
   ],
   "source": [
    "age=int(input(\"enter age : \"))\n",
    "if age >=4:\n",
    "    print(\"yor fee is $2\")\n",
    "elif age>=18:\n",
    "    print(\"ypur fee is 10$\")\n",
    "else:\n",
    "    print(\"8$\")"
   ]
  },
  {
   "cell_type": "code",
   "execution_count": 51,
   "metadata": {},
   "outputs": [
    {
     "name": "stdout",
     "output_type": "stream",
     "text": [
      "your price is 0 \n"
     ]
    }
   ],
   "source": [
    "age=10\n",
    "if age>4:\n",
    "    price=0\n",
    "elif age>6:\n",
    "    price=5\n",
    "else:\n",
    "    price=12\n",
    "print(\"your price is \"+ str(price) +\" \")"
   ]
  },
  {
   "cell_type": "code",
   "execution_count": 30,
   "metadata": {},
   "outputs": [
    {
     "name": "stdout",
     "output_type": "stream",
     "text": [
      "Your admission cost is $5.\n"
     ]
    }
   ],
   "source": [
    "age = 12\n",
    "if age < 4:\n",
    "    price = 0\n",
    "elif age < 18:\n",
    "    price = 5\n",
    "elif age < 65:\n",
    "    price = 10\n",
    "else:\n",
    "    price = 5\n",
    "print(\"Your admission cost is $\" + str(price) + \".\")"
   ]
  },
  {
   "cell_type": "markdown",
   "metadata": {},
   "source": [
    "# Omitting the else Block\n",
    "Python does not require an else block at the end of an if-elif chain."
   ]
  },
  {
   "cell_type": "code",
   "execution_count": 33,
   "metadata": {},
   "outputs": [
    {
     "name": "stdout",
     "output_type": "stream",
     "text": [
      "Your admission cost is $5.\n"
     ]
    }
   ],
   "source": [
    "age = 12\n",
    "if age < 4:\n",
    "    price = 0\n",
    "elif age < 18:\n",
    "    price = 5\n",
    "elif age < 65:\n",
    "    price = 10\n",
    "elif age >= 65:\n",
    "    price = 5\n",
    "print(\"Your admission cost is $\" + str(price) + \".\")"
   ]
  },
  {
   "cell_type": "code",
   "execution_count": 34,
   "metadata": {},
   "outputs": [
    {
     "name": "stdout",
     "output_type": "stream",
     "text": [
      "adding mashroom in pizza\n",
      "add cheez\n",
      "\n",
      "pizz is done\n",
      "\n"
     ]
    }
   ],
   "source": [
    "req_tops=[\"mashroom\",\"extra cheez\",\"\"]\n",
    "if \"mashroom\" in req_tops:\n",
    "    print(\"adding mashroom in pizza\")\n",
    "if \"peproni\" in req_tops:\n",
    "    print(\"adding peponi\\n\")\n",
    "if \"extra cheez\" in req_tops:\n",
    "    print(\"add cheez\\n\")\n",
    "print(\"pizz is done\\n\")"
   ]
  },
  {
   "cell_type": "markdown",
   "metadata": {},
   "source": [
    "<h1 style=\"color:red;\">Try It Yourself</h1>\n",
    "\n",
    "5-1. Conditional Tests: Write a series of conditional tests. Print a statement\n",
    "describing each test and your prediction for the results of each test. Your code\n",
    "should look something like this:\n",
    "    \n",
    "car = 'subaru'\n",
    "\n",
    "print(\"Is car == 'subaru'? I predict True.\")\n",
    "\n",
    "print(car == 'subaru')\n",
    "\n",
    "print(\"\\nIs car == 'audi'? I predict False.\")\n",
    "\n",
    "print(car == 'audi')\n",
    "\n",
    "•\t Look closely at your results, and make sure you understand why each line\n",
    "evaluates to True or False.\n",
    "\n",
    "•\t Create at least 10 tests. Have at least 5 tests evaluate to True and another\n",
    "5 tests evaluate to False."
   ]
  },
  {
   "cell_type": "code",
   "execution_count": 43,
   "metadata": {},
   "outputs": [
    {
     "name": "stdout",
     "output_type": "stream",
     "text": [
      "\n",
      " is animal ==cat? | prdict True \n",
      "\n",
      "True\n",
      "\n",
      " is animal==dog? | prdict False\n",
      "False\n"
     ]
    }
   ],
   "source": [
    "animal=\"cat\"\n",
    "print(\"\\n is animal ==cat? | prdict True \\n\")\n",
    "print( animal==\"cat\")\n",
    "\n",
    "print(\"\\n is animal==dog? | prdict False\")\n",
    "\n",
    "print(animal==\"dog\")"
   ]
  },
  {
   "cell_type": "code",
   "execution_count": 46,
   "metadata": {},
   "outputs": [
    {
     "name": "stdout",
     "output_type": "stream",
     "text": [
      "True\n",
      "False\n"
     ]
    }
   ],
   "source": [
    "city=\"karachi\"\n",
    "print(city==\"karachi\")\n",
    "print(city==\"lahore\")"
   ]
  },
  {
   "cell_type": "markdown",
   "metadata": {},
   "source": [
    "5-2. More Conditional Tests: You don’t have to limit the number of tests you\n",
    "create to 10. If you want to try more comparisons, write more tests and add\n",
    "them to conditional_tests.py. Have at least one True and one False result for\n",
    "each of the following:\n",
    "    \n",
    "•\t Tests for equality and inequality with strings\n",
    "\n",
    "•\t Tests using the lower() function\n",
    "\n",
    "•\t Numerical tests involving equality and inequality, greater than and\n",
    "less than, greater than or equal to, and less than or equal to\n",
    "\n",
    "•\t Tests using the and keyword and the or keyword\n",
    "\n",
    "•\t Test whether an item is in a list\n",
    "\n",
    "•\t Test whether an item is not in a list"
   ]
  },
  {
   "cell_type": "code",
   "execution_count": 49,
   "metadata": {},
   "outputs": [
    {
     "name": "stdout",
     "output_type": "stream",
     "text": [
      "True\n",
      "False\n"
     ]
    }
   ],
   "source": [
    "test=\"equal\"\n",
    "print(test==\"equal\")\n",
    "print(test!=\"equal\")"
   ]
  },
  {
   "cell_type": "code",
   "execution_count": 51,
   "metadata": {},
   "outputs": [
    {
     "name": "stdout",
     "output_type": "stream",
     "text": [
      "True\n"
     ]
    }
   ],
   "source": [
    "test=\"equal\"\n",
    "print(test.lower()==\"equal\")\n"
   ]
  },
  {
   "cell_type": "code",
   "execution_count": 56,
   "metadata": {},
   "outputs": [
    {
     "name": "stdout",
     "output_type": "stream",
     "text": [
      "False\n",
      "False\n",
      "True\n",
      "True\n"
     ]
    }
   ],
   "source": [
    "val=10\n",
    "print(val>10)\n",
    "print(val<10)\n",
    "print(val<=10)\n",
    "print(val>=10)"
   ]
  },
  {
   "cell_type": "code",
   "execution_count": 55,
   "metadata": {},
   "outputs": [
    {
     "name": "stdout",
     "output_type": "stream",
     "text": [
      "True\n",
      "False\n",
      "---\n"
     ]
    }
   ],
   "source": [
    "val=10\n",
    "print(val==10)\n",
    "print(val!=10)\n",
    "if val<=8 and val>=10:\n",
    "    print(\" ..\")\n",
    "    \n",
    "if val<=8 or val>=10:\n",
    "    print(\"---\")"
   ]
  },
  {
   "cell_type": "code",
   "execution_count": 63,
   "metadata": {},
   "outputs": [
    {
     "data": {
      "text/plain": [
       "True"
      ]
     },
     "execution_count": 63,
     "metadata": {},
     "output_type": "execute_result"
    }
   ],
   "source": [
    "val=[23,24,56,3]\n",
    "23 in val\n"
   ]
  },
  {
   "cell_type": "markdown",
   "metadata": {},
   "source": [
    "### "
   ]
  },
  {
   "cell_type": "code",
   "execution_count": 64,
   "metadata": {},
   "outputs": [
    {
     "data": {
      "text/plain": [
       "False"
      ]
     },
     "execution_count": 64,
     "metadata": {},
     "output_type": "execute_result"
    }
   ],
   "source": [
    "23 not in val"
   ]
  },
  {
   "cell_type": "code",
   "execution_count": null,
   "metadata": {},
   "outputs": [],
   "source": []
  },
  {
   "cell_type": "markdown",
   "metadata": {},
   "source": [
    "<h1 style=\"color:red;\">Try It Yourself</h1>\n",
    "\n",
    "5-3. Alien Colors #1: Imagine an alien was just shot down in a game. Create a\n",
    "variable called alien_color and assign it a value of 'green', 'yellow', or 'red'.\n",
    "\n",
    "•\t Write an if statement to test whether the alien’s color is green. If it is, print\n",
    "a message that the player just earned 5 points."
   ]
  },
  {
   "cell_type": "code",
   "execution_count": 69,
   "metadata": {},
   "outputs": [
    {
     "name": "stdout",
     "output_type": "stream",
     "text": [
      "the player just earned 5 points\n"
     ]
    }
   ],
   "source": [
    "alien_color='green', 'yellow', 'red'\n",
    "if \"green\" in alien_color:\n",
    "    print(\"the player just earned 5 points\")"
   ]
  },
  {
   "cell_type": "markdown",
   "metadata": {},
   "source": [
    "5-4. Alien Colors #2: \n",
    "\n",
    "Choose a color for an alien as you did in Exercise 5-3, and\n",
    "write an if-else chain.\n",
    "\n",
    "•\t If the alien’s color is green, print a statement that the player just earned\n",
    "5 points for shooting the alien.\n",
    "\n",
    "•\t If the alien’s color isn’t green, print a statement that the player just earned\n",
    "10 points"
   ]
  },
  {
   "cell_type": "code",
   "execution_count": 70,
   "metadata": {},
   "outputs": [
    {
     "name": "stdout",
     "output_type": "stream",
     "text": [
      "the player just earned 5 points\n"
     ]
    }
   ],
   "source": [
    "alien_color='green', 'yellow', 'red'\n",
    "if \"green\" in alien_color:\n",
    "    print(\"the player just earned 5 points\")\n",
    "else :\n",
    "    print(\"the player just earned 10 points\")"
   ]
  },
  {
   "cell_type": "markdown",
   "metadata": {},
   "source": [
    "Alien Colors #3: Turn your if-else chain from Exercise 5-4 into an if-elifelse chain.\n",
    "\n",
    "•\t If the alien is green, print a message that the player earned 5 points.\n",
    "\n",
    "•\t If the alien is yellow, print a message that the player earned 10 points.\n",
    "\n",
    "\n",
    "•\t If the alien is red, print a message that the player earned 15 points.\n",
    "\n",
    "•\t Write three versions of this program, making sure each message is printed\n",
    "for the appropriate color alien."
   ]
  },
  {
   "cell_type": "code",
   "execution_count": 67,
   "metadata": {},
   "outputs": [
    {
     "name": "stdout",
     "output_type": "stream",
     "text": [
      "the player just earned 5 points\n"
     ]
    }
   ],
   "source": [
    "alien_color='green', 'yellow', 'red'\n",
    "if \"green\" in alien_color:\n",
    "    print(\"the player just earned 5 points\")\n",
    "elif \"yellow\" in alien_color :\n",
    "    print(\"the player just earned 10 points\")\n",
    "elif  \"red\" in alien_color :\n",
    "    print(\"the player just earned 15 points\")"
   ]
  },
  {
   "cell_type": "code",
   "execution_count": null,
   "metadata": {},
   "outputs": [],
   "source": []
  },
  {
   "cell_type": "markdown",
   "metadata": {},
   "source": [
    "5-6. Stages of Life: \n",
    "Write an if-elif-else chain that determines a person’s\n",
    "stage of life. Set a value for the variable age, and then:\n",
    "\n",
    "•\t If the person is less than 2 years old, print a message that the person is\n",
    "a baby.\n",
    "\n",
    "•\t If the person is at least 2 years old but less than 4, print a message that\n",
    "the person is a toddler.\n",
    "\n",
    "•\t If the person is at least 4 years old but less than 13, print a message that\n",
    "the person is a kid.\n",
    "\n",
    "•\t If the person is at least 13 years old but less than 20, print a message that\n",
    "the person is a teenager.\n",
    "\n",
    "•\t If the person is at least 20 years old but less than 65, print a message that\n",
    "the person is an adult.\n",
    "\n",
    "•\t If the person is age 65 or older, print a message that the person is an\n",
    "elder."
   ]
  },
  {
   "cell_type": "code",
   "execution_count": 78,
   "metadata": {},
   "outputs": [
    {
     "name": "stdout",
     "output_type": "stream",
     "text": [
      "the person is a teenager.\n"
     ]
    }
   ],
   "source": [
    "age=8\n",
    "if age <2:\n",
    "    print(\" the person is a baby\")\n",
    "elif age ==2:\n",
    "    print(\"the person is a toddler.\")\n",
    "elif age <4:\n",
    "    print(\"the person is a kid.\")\n",
    "elif age <13:\n",
    "    print(\"the person is a teenager.\")\n",
    "elif age <20:\n",
    "    print(\"the person is a adult.\")\n"
   ]
  },
  {
   "cell_type": "markdown",
   "metadata": {},
   "source": [
    "5-7. Favorite Fruit: Make a list of your favorite fruits, and then write a series of\n",
    "independent if statements that check for certain fruits in your list.\n",
    "\n",
    "•\t Make a list of your three favorite fruits and call it favorite_fruits.\n",
    "\n",
    "•\t Write five if statements. Each should check whether a certain kind of fruit\n",
    "is in your list. If the fruit is in your list, the if block should print a statement,\n",
    "such as You really like bananas!\n"
   ]
  },
  {
   "cell_type": "code",
   "execution_count": 78,
   "metadata": {},
   "outputs": [
    {
     "name": "stdout",
     "output_type": "stream",
     "text": [
      " mu fav fruite is bananas\n",
      " mu fav fruite is apple\n",
      " mu fav fruite is mango\n"
     ]
    }
   ],
   "source": [
    "favfruits=[\"bananas\",\"apple\",\"mango\"]\n",
    "for favfruit in favfruits:\n",
    "    print(f\" mu fav fruite is {favfruit}\")"
   ]
  },
  {
   "cell_type": "code",
   "execution_count": 80,
   "metadata": {},
   "outputs": [
    {
     "name": "stdout",
     "output_type": "stream",
     "text": [
      "i reaaly like bananas\n",
      "i reaaly like apple\n",
      "i reaaly like mango\n"
     ]
    }
   ],
   "source": [
    "favfruits=[\"bananas\",\"apple\",\"mango\"]\n",
    "for favfruit in favfruits:\n",
    "    if favfruit in \"bananas\":\n",
    "        print(\"i reaaly like bananas\")\n",
    "    elif favfruit in \"mango\":\n",
    "        print(\"i reaaly like mango\")\n",
    "    elif favfruit in \"apple\":\n",
    "        print(\"i reaaly like apple\")\n"
   ]
  },
  {
   "cell_type": "markdown",
   "metadata": {},
   "source": [
    "# Using if Statements with Lists\n",
    "Checking for Special Items"
   ]
  },
  {
   "cell_type": "code",
   "execution_count": 79,
   "metadata": {},
   "outputs": [
    {
     "name": "stdout",
     "output_type": "stream",
     "text": [
      "Adding mushrooms.\n",
      "Adding green peppers.\n",
      "Adding extra cheese.\n",
      "\n",
      "Finished making your pizza!\n"
     ]
    }
   ],
   "source": [
    "requested_toppings = ['mushrooms', 'green peppers', 'extra cheese']\n",
    "for requested_topping in requested_toppings:\n",
    "    print(\"Adding \" + requested_topping + \".\")\n",
    "print(\"\\nFinished making your pizza!\")"
   ]
  },
  {
   "cell_type": "code",
   "execution_count": 68,
   "metadata": {},
   "outputs": [
    {
     "name": "stdout",
     "output_type": "stream",
     "text": [
      "Adding mushrooms.\n",
      "Sorry, we are out of green peppers right now.\n",
      "Adding extra cheese.\n",
      "\n",
      "Finished making your pizza!\n"
     ]
    }
   ],
   "source": [
    "requested_toppings = ['mushrooms', 'green peppers', 'extra cheese']\n",
    "for requested_topping in requested_toppings:\n",
    "    if requested_topping == 'green peppers':\n",
    "        print(\"Sorry, we are out of green peppers right now.\")\n",
    "    else:\n",
    "        print(\"Adding \" + requested_topping + \".\")\n",
    "print(\"\\nFinished making your pizza!\")"
   ]
  },
  {
   "cell_type": "markdown",
   "metadata": {},
   "source": [
    "# Checking That a List Is Not Empty"
   ]
  },
  {
   "cell_type": "code",
   "execution_count": 83,
   "metadata": {},
   "outputs": [
    {
     "name": "stdout",
     "output_type": "stream",
     "text": [
      "Are you sure you want a plain pizza?\n"
     ]
    }
   ],
   "source": [
    "requested_toppings=[]\n",
    "if requested_toppings:\n",
    "    for requested_topping in requested_toppings:\n",
    "        print(\"adding\" +requested_topping + \" :\")\n",
    "else:\n",
    "    print(\"Are you sure you want a plain pizza?\")"
   ]
  },
  {
   "cell_type": "markdown",
   "metadata": {},
   "source": [
    "# Using Multiple Lists"
   ]
  },
  {
   "cell_type": "code",
   "execution_count": 69,
   "metadata": {},
   "outputs": [
    {
     "name": "stdout",
     "output_type": "stream",
     "text": [
      "adding a mushrooms \n",
      "sorry sir not availabe\n",
      "adding a extra cheese \n"
     ]
    }
   ],
   "source": [
    "available_toppings = ['mushrooms', 'olives', 'green peppers','pepperoni', 'pineapple', 'extra cheese']\n",
    "requested_toppings = ['mushrooms', 'french fries', 'extra cheese']\n",
    "for requested_topping in requested_toppings:\n",
    "    if requested_topping in available_toppings:\n",
    "        print(\"adding a \" +requested_topping+ \" \")\n",
    "    else:\n",
    "        print(\"sorry sir not availabe\")\n",
    "    "
   ]
  },
  {
   "cell_type": "markdown",
   "metadata": {},
   "source": [
    "Hello Admin: \n",
    "Make a list of five or more usernames, including the name\n",
    "'admin'. Imagine you are writing code that will print a greeting to each user\n",
    "after they log in to a website. Loop through the list, and print a greeting to\n",
    "each user:\n",
    "\n",
    "•\t If the username is 'admin', print a special greeting, such as Hello admin,\n",
    "would you like to see a status report?\n",
    "\n",
    "•\t Otherwise, print a generic greeting, such as Hello Eric, thank you for logging in again."
   ]
  },
  {
   "cell_type": "code",
   "execution_count": 70,
   "metadata": {},
   "outputs": [
    {
     "name": "stdout",
     "output_type": "stream",
     "text": [
      "Hello admin, would you like to see a status report?\n",
      "hello employe\n",
      "hello manager\n",
      "hello worker\n",
      "hello\n"
     ]
    }
   ],
   "source": [
    "users=[\"admin\",\"employe\",\"manager\",\"worker\",\"staff\"]\n",
    "for user in users:\n",
    "    if user==\"admin\":\n",
    "        print(\"Hello admin, would you like to see a status report?\")\n",
    "    elif user==\"employe\":\n",
    "        print(\"hello employe\")\n",
    "    elif user==\"manager\":\n",
    "        print(\"hello manager\")\n",
    "    elif user==\"worker\":\n",
    "        print(\"hello worker\")\n",
    "    else:\n",
    "        print(\"hello\")"
   ]
  },
  {
   "cell_type": "code",
   "execution_count": 73,
   "metadata": {},
   "outputs": [
    {
     "name": "stdout",
     "output_type": "stream",
     "text": [
      "the username is available.\n",
      "the username is available.\n",
      "the username is available.\n",
      "the username is available.\n",
      "the username is available.\n"
     ]
    }
   ],
   "source": [
    "current_users=[\"rana\",\"ali\",\"fahad\",\"ahmed\",\"hamza\"]\n",
    "new_users=[\"rana\",\"ali\",\"abdullah\",\"huzaifa\",\"sharjeel\"]\n",
    "\n",
    "for a in current_users:\n",
    "    if a != new_users:\n",
    "        print(\"the username is available.\")\n",
    "    else:\n",
    "        print(\"\")\n"
   ]
  },
  {
   "cell_type": "code",
   "execution_count": 110,
   "metadata": {},
   "outputs": [
    {
     "name": "stdout",
     "output_type": "stream",
     "text": [
      "the username is available.\n",
      "the username is available.\n",
      "the username is available.\n",
      "the username is available.\n",
      "the username is available.\n"
     ]
    }
   ],
   "source": [
    "current_users=[\"rana\",\"ali\",\"fahad\",\"ahmed\",\"hamza\"]\n",
    "new_users=[\"rana\",\"ali\",\"abdullah\",\"huzaifa\",\"sharjeel\"]\n",
    "\n",
    "current_users=new_users\n",
    "\n",
    "for a in current_users:\n",
    "    if a != new_users:\n",
    "        print(\"the username is available.\")\n",
    "    else:\n",
    "        print(\"\")"
   ]
  },
  {
   "cell_type": "markdown",
   "metadata": {},
   "source": [
    "5-10. Checking Usernames: Do the following to create a program that simulates\n",
    "how websites ensure that everyone has a unique username.\n",
    "\n",
    "•\t Make a list of five or more usernames called current_users.\n",
    "\n",
    "•\t Make another list of five usernames called new_users. Make sure one or\n",
    "two of the new usernames are also in the current_users list.\n",
    "\n",
    "•\t Loop through the new_users list to see if each new username has already\n",
    "been used. If it has, print a message that the person will need to enter a\n",
    "new username. If a username has not been used, print a message saying\n",
    "that the username is available.\n",
    "\n",
    "•\t Make sure your comparison is case insensitive. If 'John' has been used,\n",
    "'JOHN' should not be accepted."
   ]
  },
  {
   "cell_type": "code",
   "execution_count": 114,
   "metadata": {},
   "outputs": [
    {
     "name": "stdout",
     "output_type": "stream",
     "text": [
      "person will need to enter a new username.\n",
      "person will need to enter a new username.\n",
      "  saying that the username is available..\n",
      "  saying that the username is available..\n",
      "  saying that the username is available..\n"
     ]
    }
   ],
   "source": [
    "current_users=[\"ali\",\"ahmed\",\"fahad\",\"aun\",\"rana\"]\n",
    "new_users=[\"ali\",\"rana\",\"bilal\",\"huzi\",\"dula\"]\n",
    "for new_user in new_users:\n",
    "    if new_user in current_users:\n",
    "        print(\"person will need to enter a new username.\")\n",
    "    else:\n",
    "        print(\"  saying that the username is available..\")"
   ]
  },
  {
   "cell_type": "markdown",
   "metadata": {},
   "source": [
    "5-11. Ordinal Numbers: Ordinal numbers indicate their position in a list, such\n",
    "as 1st or 2nd. Most ordinal numbers end in th, except 1, 2, and 3.\n",
    "\n",
    "•\t Store the numbers 1 through 9 in a list.\n",
    "\n",
    "•\t Loop through the list.\n",
    "\n",
    "•\t Use an if-elif-else chain inside the loop to print the proper ordinal ending for each number. Your output should read \"1st 2nd 3rd 4th 5th 6th\n",
    "7th 8th 9th\", and each result should be on a separate line"
   ]
  },
  {
   "cell_type": "code",
   "execution_count": 118,
   "metadata": {},
   "outputs": [
    {
     "name": "stdout",
     "output_type": "stream",
     "text": [
      "1st\n",
      "2st\n",
      "3st\n",
      "4st\n",
      "5st\n",
      "6st\n",
      "7st\n",
      "8st\n",
      "9st\n"
     ]
    }
   ],
   "source": [
    "ordinal=[1,2,3,4,5,6,7,8,9]\n",
    "for num in ordinal:\n",
    "    if 1 in ordinal:\n",
    "        print(f\"{num}st\")"
   ]
  },
  {
   "cell_type": "code",
   "execution_count": null,
   "metadata": {},
   "outputs": [],
   "source": []
  }
 ],
 "metadata": {
  "kernelspec": {
   "display_name": "Python 3",
   "language": "python",
   "name": "python3"
  },
  "language_info": {
   "codemirror_mode": {
    "name": "ipython",
    "version": 3
   },
   "file_extension": ".py",
   "mimetype": "text/x-python",
   "name": "python",
   "nbconvert_exporter": "python",
   "pygments_lexer": "ipython3",
   "version": "3.7.6"
  }
 },
 "nbformat": 4,
 "nbformat_minor": 4
}
