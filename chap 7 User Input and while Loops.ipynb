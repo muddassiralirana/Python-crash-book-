{
 "cells": [
  {
   "cell_type": "markdown",
   "metadata": {},
   "source": [
    "# How the input() Function Works"
   ]
  },
  {
   "cell_type": "code",
   "execution_count": 1,
   "metadata": {},
   "outputs": [
    {
     "name": "stdout",
     "output_type": "stream",
     "text": [
      "please enter your name  rana\n",
      "rana\n"
     ]
    }
   ],
   "source": [
    "massage=input(\"please enter your name  \")\n",
    "print(massage)"
   ]
  },
  {
   "cell_type": "markdown",
   "metadata": {},
   "source": [
    "## Writing Clear Prompts"
   ]
  },
  {
   "cell_type": "code",
   "execution_count": 2,
   "metadata": {},
   "outputs": [
    {
     "name": "stdout",
     "output_type": "stream",
     "text": [
      "the name is rana\n"
     ]
    }
   ],
   "source": [
    "print(\"the name is \" + massage)"
   ]
  },
  {
   "cell_type": "code",
   "execution_count": 3,
   "metadata": {},
   "outputs": [
    {
     "name": "stdout",
     "output_type": "stream",
     "text": [
      "If you tell us who you are, we can personalize the messages you see.\n",
      "What is your first name? ali\n",
      "\n",
      "Hello, ali!\n"
     ]
    }
   ],
   "source": [
    "prompt = \"If you tell us who you are, we can personalize the messages you see.\"\n",
    "prompt += \"\\nWhat is your first name? \"\n",
    "name = input(prompt)\n",
    "print(\"\\nHello, \" + name + \"!\")\n"
   ]
  },
  {
   "cell_type": "markdown",
   "metadata": {},
   "source": [
    "## Using int() to Accept Numerical Input"
   ]
  },
  {
   "cell_type": "code",
   "execution_count": 4,
   "metadata": {},
   "outputs": [
    {
     "name": "stdout",
     "output_type": "stream",
     "text": [
      "age 23\n",
      "23\n"
     ]
    }
   ],
   "source": [
    "a=input(\"age \")\n",
    "print(a)"
   ]
  },
  {
   "cell_type": "code",
   "execution_count": 5,
   "metadata": {},
   "outputs": [
    {
     "name": "stdout",
     "output_type": "stream",
     "text": [
      "age 23\n",
      "23\n"
     ]
    }
   ],
   "source": [
    "a=int(input(\"age \"))\n",
    "print(a)"
   ]
  },
  {
   "cell_type": "markdown",
   "metadata": {},
   "source": [
    "### The Modulo Operator"
   ]
  },
  {
   "cell_type": "code",
   "execution_count": 6,
   "metadata": {},
   "outputs": [
    {
     "data": {
      "text/plain": [
       "0"
      ]
     },
     "execution_count": 6,
     "metadata": {},
     "output_type": "execute_result"
    }
   ],
   "source": [
    "2%1\n"
   ]
  },
  {
   "cell_type": "code",
   "execution_count": 7,
   "metadata": {},
   "outputs": [
    {
     "data": {
      "text/plain": [
       "1"
      ]
     },
     "execution_count": 7,
     "metadata": {},
     "output_type": "execute_result"
    }
   ],
   "source": [
    "4%3"
   ]
  },
  {
   "cell_type": "code",
   "execution_count": 8,
   "metadata": {},
   "outputs": [
    {
     "data": {
      "text/plain": [
       "2"
      ]
     },
     "execution_count": 8,
     "metadata": {},
     "output_type": "execute_result"
    }
   ],
   "source": [
    "5%3"
   ]
  },
  {
   "cell_type": "code",
   "execution_count": 9,
   "metadata": {},
   "outputs": [
    {
     "data": {
      "text/plain": [
       "0"
      ]
     },
     "execution_count": 9,
     "metadata": {},
     "output_type": "execute_result"
    }
   ],
   "source": [
    "6%3"
   ]
  },
  {
   "cell_type": "code",
   "execution_count": 10,
   "metadata": {},
   "outputs": [
    {
     "name": "stdout",
     "output_type": "stream",
     "text": [
      "even odd checker\n",
      "please enter a number: 3\n",
      "odd number 3\n"
     ]
    }
   ],
   "source": [
    "print(\"even odd checker\")\n",
    "number=int(input(\"please enter a number: \"))\n",
    "if number % 2==0:\n",
    "    print(f\"evan number {number}\" )\n",
    "else:\n",
    "    print(f\"odd number {number}\")"
   ]
  },
  {
   "cell_type": "markdown",
   "metadata": {},
   "source": [
    "<h3 style=\"color:green;\"> 7-1. Rental Car: Write a program that asks the user what kind of rental car they\n",
    "would like. Print a message about that car, such as “Let me see if I can find you\n",
    "a Subaru.”</h3>\n"
   ]
  },
  {
   "cell_type": "code",
   "execution_count": 12,
   "metadata": {},
   "outputs": [
    {
     "name": "stdout",
     "output_type": "stream",
     "text": [
      "what kind of rental car you like mbw\n",
      "  let me see if i can fin d you a : mbw\n"
     ]
    }
   ],
   "source": [
    "car=input(\"what kind of rental car you like \")\n",
    "print(f\"  let me see if i can fin d you a : {car}\")"
   ]
  },
  {
   "cell_type": "markdown",
   "metadata": {},
   "source": [
    "<h3 style=\"color:green;\">  Restaurant Seating: Write a program that asks the user how many people\n",
    "are in their dinner group. If the answer is more than eight,\n",
    "print a message saying they’ll have to wait for a table.\n",
    "Otherwise, report that their table is ready. </h3>"
   ]
  },
  {
   "cell_type": "code",
   "execution_count": 14,
   "metadata": {},
   "outputs": [
    {
     "name": "stdout",
     "output_type": "stream",
     "text": [
      "enter a member of group  9\n",
      " plz wait sir for a table\n"
     ]
    }
   ],
   "source": [
    "customer_input=int(input(\"enter a member of group  \"))\n",
    "if customer_input >8:\n",
    "    print(\" plz wait sir for a table\")\n",
    "else:\n",
    "    print(\"table is ready sir\")\n",
    "        "
   ]
  },
  {
   "cell_type": "markdown",
   "metadata": {},
   "source": [
    "<h3 style=\"color:green;\">    7-3. Multiples of Ten: Ask the user for a number, and then report whether the\n",
    "number is a multiple of 10 or not. </h3>"
   ]
  },
  {
   "cell_type": "code",
   "execution_count": 19,
   "metadata": {},
   "outputs": [
    {
     "name": "stdout",
     "output_type": "stream",
     "text": [
      " entera num : 4\n"
     ]
    },
    {
     "data": {
      "text/plain": [
       "True"
      ]
     },
     "execution_count": 19,
     "metadata": {},
     "output_type": "execute_result"
    }
   ],
   "source": [
    "no=(input(\" entera num : \"))\n",
    "no in no*10\n"
   ]
  },
  {
   "cell_type": "markdown",
   "metadata": {},
   "source": [
    "## Introducing while Loops"
   ]
  },
  {
   "cell_type": "code",
   "execution_count": 20,
   "metadata": {},
   "outputs": [
    {
     "name": "stdout",
     "output_type": "stream",
     "text": [
      "1\n",
      "2\n",
      "3\n",
      "4\n",
      "5\n"
     ]
    }
   ],
   "source": [
    "number=1\n",
    "while number<=5:\n",
    "    print(number)\n",
    "    number+=1"
   ]
  },
  {
   "cell_type": "markdown",
   "metadata": {},
   "source": [
    "## Letting the User Choose When to Quit"
   ]
  },
  {
   "cell_type": "code",
   "execution_count": null,
   "metadata": {},
   "outputs": [],
   "source": []
  },
  {
   "cell_type": "code",
   "execution_count": 21,
   "metadata": {},
   "outputs": [
    {
     "name": "stdout",
     "output_type": "stream",
     "text": [
      "the value3\n",
      "32\n",
      "2\n",
      "3quit\n",
      "quit\n"
     ]
    }
   ],
   "source": [
    "prompt=input(\"the value\")\n",
    "message = \"\"\n",
    "while message != 'quit':\n",
    "    message = input(prompt)\n",
    "    print(message)"
   ]
  },
  {
   "cell_type": "markdown",
   "metadata": {},
   "source": [
    "## Using a Flag"
   ]
  },
  {
   "cell_type": "code",
   "execution_count": 25,
   "metadata": {},
   "outputs": [
    {
     "name": "stdout",
     "output_type": "stream",
     "text": [
      "  ali\n",
      "\n",
      "  rana\n",
      "\n",
      "  q\n"
     ]
    }
   ],
   "source": [
    "active=True\n",
    "while active:\n",
    "    massage=input(\"  \")\n",
    "    if massage == \"q\":\n",
    "        active=False\n",
    "    else :\n",
    "        print (\"\")"
   ]
  },
  {
   "cell_type": "markdown",
   "metadata": {},
   "source": [
    "## Using break to Exit a Loop"
   ]
  },
  {
   "cell_type": "code",
   "execution_count": 26,
   "metadata": {},
   "outputs": [
    {
     "name": "stdout",
     "output_type": "stream",
     "text": [
      "  q\n",
      "\n",
      "  Q\n"
     ]
    }
   ],
   "source": [
    "\n",
    "while a:\n",
    "    a =input(\"  \")\n",
    "    if a ==\"Q\":\n",
    "        break\n",
    "    else :\n",
    "        print ()\n",
    "    "
   ]
  },
  {
   "cell_type": "code",
   "execution_count": 27,
   "metadata": {},
   "outputs": [
    {
     "name": "stdout",
     "output_type": "stream",
     "text": [
      "1\n",
      "3\n",
      "5\n",
      "7\n",
      "9\n"
     ]
    }
   ],
   "source": [
    "current_number = 0\n",
    "while current_number < 10:\n",
    "    current_number += 1\n",
    "    if current_number % 2 == 0:\n",
    "        continue\n",
    "\n",
    "    print(current_number)"
   ]
  },
  {
   "cell_type": "code",
   "execution_count": 28,
   "metadata": {},
   "outputs": [
    {
     "name": "stdout",
     "output_type": "stream",
     "text": [
      "1\n",
      "2\n",
      "3\n",
      "4\n",
      "5\n"
     ]
    }
   ],
   "source": [
    "x = 1\n",
    "while x <= 5:\n",
    "    print(x)\n",
    "    x+=1"
   ]
  },
  {
   "cell_type": "code",
   "execution_count": null,
   "metadata": {},
   "outputs": [],
   "source": []
  },
  {
   "cell_type": "code",
   "execution_count": null,
   "metadata": {},
   "outputs": [],
   "source": []
  },
  {
   "cell_type": "code",
   "execution_count": 30,
   "metadata": {},
   "outputs": [
    {
     "name": "stdout",
     "output_type": "stream",
     "text": [
      " enter bbq\n",
      " enter q\n",
      "['bbq', 'q']\n"
     ]
    }
   ],
   "source": [
    "# prompt=(\"enter a topping\")\n",
    "a=[]\n",
    "topping=\" \"\n",
    "while topping!=\"q\":\n",
    "    topping=input(\" enter \")\n",
    "    a.append(topping)\n",
    "print (a)\n",
    "    "
   ]
  },
  {
   "cell_type": "code",
   "execution_count": null,
   "metadata": {},
   "outputs": [],
   "source": []
  },
  {
   "cell_type": "code",
   "execution_count": null,
   "metadata": {},
   "outputs": [],
   "source": []
  },
  {
   "cell_type": "code",
   "execution_count": 31,
   "metadata": {},
   "outputs": [
    {
     "name": "stdout",
     "output_type": "stream",
     "text": [
      "\n",
      "Please enter the name of a city you have visited:\n",
      "(Enter 'quit' when you are finished.) khi\n",
      "I'd love to go to Khi!\n",
      "\n",
      "Please enter the name of a city you have visited:\n",
      "(Enter 'quit' when you are finished.) q\n"
     ]
    }
   ],
   "source": [
    "prompt = \"\\nPlease enter the name of a city you have visited:\"\n",
    "prompt += \"\\n(Enter 'quit' when you are finished.) \"\n",
    "while True:\n",
    "    city = input(prompt)\n",
    "\n",
    "    if city == 'q':\n",
    "        break\n",
    "    else:\n",
    "        print(\"I'd love to go to \" + city.title() + \"!\")"
   ]
  },
  {
   "cell_type": "markdown",
   "metadata": {},
   "source": [
    "`### "
   ]
  },
  {
   "cell_type": "code",
   "execution_count": 32,
   "metadata": {},
   "outputs": [
    {
     "name": "stdout",
     "output_type": "stream",
     "text": [
      " this is a member of IUCDS :ali\n",
      "i confirmed ali\n",
      " this is a member of IUCDS :q\n"
     ]
    }
   ],
   "source": [
    "info=\" this is a member of IUCDS :\"\n",
    "while True:\n",
    "    name=input(info)\n",
    "    if name ==\"q\":\n",
    "        break\n",
    "    else:\n",
    "        print(f\"i confirmed {name}\")"
   ]
  },
  {
   "cell_type": "code",
   "execution_count": 33,
   "metadata": {},
   "outputs": [
    {
     "name": "stdout",
     "output_type": "stream",
     "text": [
      "1\n",
      "3\n",
      "5\n",
      "7\n",
      "9\n",
      "11\n"
     ]
    }
   ],
   "source": [
    "num=0\n",
    "while num<12:\n",
    "    num +=1\n",
    "    if num %2==0:\n",
    "        continue\n",
    "    print(num)\n",
    "    "
   ]
  },
  {
   "cell_type": "markdown",
   "metadata": {},
   "source": [
    "## Avoiding Infinite Loops"
   ]
  },
  {
   "cell_type": "code",
   "execution_count": 34,
   "metadata": {},
   "outputs": [],
   "source": [
    "# x=1\n",
    "# while x<=5:\n",
    "#     print(x)\n",
    "#     #infinite loop\n",
    "    "
   ]
  },
  {
   "cell_type": "code",
   "execution_count": 35,
   "metadata": {},
   "outputs": [
    {
     "name": "stdout",
     "output_type": "stream",
     "text": [
      "1\n",
      "2\n",
      "3\n",
      "4\n",
      "5\n"
     ]
    }
   ],
   "source": [
    "x=1\n",
    "while x<=5:\n",
    "    print(x)\n",
    "    x+=1"
   ]
  },
  {
   "cell_type": "markdown",
   "metadata": {},
   "source": [
    "<h3 style=\"color:green;\">7-4. Pizza Toppings: Write a loop that prompts the user to enter a series of\n",
    "pizza toppings until they enter a 'quit' value. As they enter each topping,\n",
    "print a message saying you’ll add that topping to their pizza.</h3>"
   ]
  },
  {
   "cell_type": "code",
   "execution_count": null,
   "metadata": {},
   "outputs": [],
   "source": [
    "prompt=\"plz enter the series of tooping in pizza  \"\n",
    "while True:\n",
    "    pizza=input(prompt)\n",
    "    if pizza==\"q\":\n",
    "        break\n",
    "    else:\n",
    "        print(f\" your pizza with topping  {pizza} is ready\")"
   ]
  },
  {
   "cell_type": "markdown",
   "metadata": {},
   "source": [
    "<h3 style=\"color:green;\">Movie Tickets: A movie theater charges different ticket prices depending on\n",
    "a person’s age. If a person is under the age of 3, the ticket is free; if they are\n",
    "between 3 and 12, the ticket is $10; and if they are over age 12, the ticket is\n",
    "$15. Write a loop in which you ask users their age, and then tell them the cost\n",
    "of their movie ticket.</h3>"
   ]
  },
  {
   "cell_type": "code",
   "execution_count": 1,
   "metadata": {},
   "outputs": [
    {
     "name": "stdout",
     "output_type": "stream",
     "text": [
      "enter your age  0\n",
      "you enter none value its mean your order is complete\n"
     ]
    }
   ],
   "source": [
    "while True:\n",
    "    age=int(input(\"enter your age  \"))\n",
    "    if age==0:\n",
    "        print(\"you enter none value its mean your order is complete\")\n",
    "        break\n",
    "    elif age>0 and age<=4:\n",
    "        print(\"ticket is free\")\n",
    "    elif age<=12:\n",
    "        print(\"price 10$ \")\n",
    "    else:\n",
    "        print(\" ticet price 15$ \")"
   ]
  },
  {
   "cell_type": "markdown",
   "metadata": {},
   "source": [
    "<h3 style=\"color:green;\">7-6. Three Exits: Write different versions of either Exercise 7-4 or Exercise 7-5\n",
    "that do each of the following at least once:\n",
    "•\t Use a conditional test in the while statement to stop the loop.\n",
    "•\t Use an active variable to control how long the loop runs.\n",
    "•\t Use a break statement to exit the loop when the user enters a 'quit' value.</h3>"
   ]
  },
  {
   "cell_type": "code",
   "execution_count": 3,
   "metadata": {},
   "outputs": [
    {
     "name": "stdout",
     "output_type": "stream",
     "text": [
      "plz enter the series of tooping in pizza  q\n"
     ]
    }
   ],
   "source": [
    "prompt=\"plz enter the series of tooping in pizza  \"\n",
    "while True:\n",
    "    pizza=input(prompt)\n",
    "    if pizza==\"q\":\n",
    "        break\n",
    "    else:\n",
    "        print(f\" your pizza with topping  {pizza} is ready\")"
   ]
  },
  {
   "cell_type": "code",
   "execution_count": null,
   "metadata": {},
   "outputs": [],
   "source": []
  },
  {
   "cell_type": "code",
   "execution_count": null,
   "metadata": {},
   "outputs": [],
   "source": []
  },
  {
   "cell_type": "code",
   "execution_count": 4,
   "metadata": {},
   "outputs": [
    {
     "name": "stdout",
     "output_type": "stream",
     "text": [
      "enter a value5\n",
      "7\n",
      "9\n",
      "11\n",
      "13\n",
      "15\n",
      "17\n",
      "19\n"
     ]
    }
   ],
   "source": [
    "num=int(input(\"enter a value\"))\n",
    "while num<20:\n",
    "    num+=1\n",
    "    if num%2==0:\n",
    "        continue\n",
    "    print(num)"
   ]
  },
  {
   "cell_type": "code",
   "execution_count": null,
   "metadata": {},
   "outputs": [],
   "source": []
  },
  {
   "cell_type": "markdown",
   "metadata": {},
   "source": [
    "## pricr converter"
   ]
  },
  {
   "cell_type": "code",
   "execution_count": 5,
   "metadata": {},
   "outputs": [
    {
     "name": "stdout",
     "output_type": "stream",
     "text": [
      "enter a value : 12\n",
      "1920\n"
     ]
    }
   ],
   "source": [
    "pk_price=int(input(\"enter a value : \"))\n",
    "dollar=160\n",
    "convert=pk_price*dollar\n",
    "print(convert)"
   ]
  },
  {
   "cell_type": "code",
   "execution_count": 6,
   "metadata": {},
   "outputs": [],
   "source": [
    "def converter():\n",
    "    pk_price=int(input(\"enter a value : \"))\n",
    "    dollar=160\n",
    "    convert=pk_price*dollar\n",
    "    print(convert)\n",
    "    "
   ]
  },
  {
   "cell_type": "code",
   "execution_count": 7,
   "metadata": {},
   "outputs": [
    {
     "name": "stdout",
     "output_type": "stream",
     "text": [
      "enter a value : 12\n",
      "1920\n"
     ]
    }
   ],
   "source": [
    "converter()"
   ]
  },
  {
   "cell_type": "markdown",
   "metadata": {},
   "source": [
    "## Using a while Loop with Lists and Dictionaries"
   ]
  },
  {
   "cell_type": "markdown",
   "metadata": {},
   "source": [
    "### Moving Items from One List to Another"
   ]
  },
  {
   "cell_type": "code",
   "execution_count": 8,
   "metadata": {},
   "outputs": [
    {
     "name": "stdout",
     "output_type": "stream",
     "text": [
      "verifying user: malik \n",
      "verifying user: ofuq \n",
      "verifying user: rana \n",
      "verifying user: tayyab \n",
      "verifying user: abdullah \n",
      "-----------------------------------\n",
      "malik\n",
      "ofuq\n",
      "rana\n",
      "tayyab\n",
      "abdullah\n"
     ]
    }
   ],
   "source": [
    "unconfermd_user=[\"abdullah\",\"tayyab\",'rana',\"ofuq\",\"malik\"]\n",
    "confermed_user=[]\n",
    "while unconfermd_user:\n",
    "    current_user=unconfermd_user.pop()\n",
    "    print(f\"verifying user: {current_user} \")\n",
    "    confermed_user.append(current_user)\n",
    "print(\"-----------------------------------\")    \n",
    "    \n",
    "for confermed in confermed_user:\n",
    "    print(confermed)"
   ]
  },
  {
   "cell_type": "code",
   "execution_count": 9,
   "metadata": {},
   "outputs": [
    {
     "data": {
      "text/plain": [
       "[]"
      ]
     },
     "execution_count": 9,
     "metadata": {},
     "output_type": "execute_result"
    }
   ],
   "source": [
    "unconfermd_user"
   ]
  },
  {
   "cell_type": "code",
   "execution_count": 10,
   "metadata": {},
   "outputs": [
    {
     "data": {
      "text/plain": [
       "['malik', 'ofuq', 'rana', 'tayyab', 'abdullah']"
      ]
     },
     "execution_count": 10,
     "metadata": {},
     "output_type": "execute_result"
    }
   ],
   "source": [
    "confermed_user"
   ]
  },
  {
   "cell_type": "code",
   "execution_count": null,
   "metadata": {},
   "outputs": [],
   "source": []
  },
  {
   "cell_type": "markdown",
   "metadata": {},
   "source": [
    "## Filling a Dictionary with User Input"
   ]
  },
  {
   "cell_type": "code",
   "execution_count": 1,
   "metadata": {},
   "outputs": [
    {
     "name": "stdout",
     "output_type": "stream",
     "text": [
      "enter a nme : ali\n",
      "enter a responce  : good\n",
      "enter a nme : no\n",
      "enter a responce  : nd\n",
      "ali good\n",
      "no nd\n"
     ]
    }
   ],
   "source": [
    "responses={}\n",
    "active=True\n",
    "while active:\n",
    "    name=input(\"enter a nme : \")\n",
    "    responce=input(\"enter a responce  : \")\n",
    "   \n",
    "    if name ==\"no\":\n",
    "        active=False\n",
    "    responses[name]=responce\n",
    "for k,v in responses.items():\n",
    "    print(k,v)\n",
    "    \n",
    "    "
   ]
  },
  {
   "cell_type": "code",
   "execution_count": 2,
   "metadata": {},
   "outputs": [
    {
     "data": {
      "text/plain": [
       "{'ali': 'good', 'no': 'nd'}"
      ]
     },
     "execution_count": 2,
     "metadata": {},
     "output_type": "execute_result"
    }
   ],
   "source": [
    "responses"
   ]
  },
  {
   "cell_type": "markdown",
   "metadata": {},
   "source": [
    "\n",
    "<h3 style=\"color:green;\">7-8. Deli: Make a list called sandwich_orders and fill it with the names of various sandwiches. Then make an empty list called finished_sandwiches. Loop\n",
    "through the list of sandwich orders and print a message for each order, such\n",
    "as I made your tuna sandwich. As each sandwich is made, move it to the list\n",
    "of finished sandwiches. After all the sandwiches have been made, print a\n",
    "message listing each sandwich that was made.</h3>"
   ]
  },
  {
   "cell_type": "code",
   "execution_count": 6,
   "metadata": {},
   "outputs": [
    {
     "name": "stdout",
     "output_type": "stream",
     "text": [
      "sanwitch was mad ['jam', 'butter', 'egg']\n",
      "jam\n",
      "butter\n",
      "egg\n"
     ]
    }
   ],
   "source": [
    "sandwich_orders=[\"egg\",\"butter\",\"jam\"]\n",
    "finished_sandwiches=[]\n",
    "while sandwich_orders:\n",
    "    current_sand=sandwich_orders.pop()\n",
    "    finished_sandwiches.append(current_sand)\n",
    "print(f\"sanwitch was mad {finished_sandwiches}\") \n",
    "for finished_sandwiche in finished_sandwiches:\n",
    "    print(finished_sandwiche)\n",
    "    "
   ]
  },
  {
   "cell_type": "code",
   "execution_count": null,
   "metadata": {},
   "outputs": [],
   "source": []
  },
  {
   "cell_type": "markdown",
   "metadata": {},
   "source": [
    "<h3 style=\"color:green;\">7-10. Dream Vacation: Write a program that polls users about their dream\n",
    "vacation. Write a prompt similar to If you could visit one place in the world,\n",
    "where would you go? Include a block of code that prints the results of the poll      </h3>"
   ]
  },
  {
   "cell_type": "code",
   "execution_count": 9,
   "metadata": {},
   "outputs": [
    {
     "name": "stdout",
     "output_type": "stream",
     "text": [
      "enter a dream : dubai\n",
      " i like to visit : dubai\n"
     ]
    }
   ],
   "source": [
    "prompt=\" i like to visit : \"\n",
    "\n",
    "dreams=input(\"enter a dream : \")\n",
    "\n",
    "print(prompt+ dreams)"
   ]
  },
  {
   "cell_type": "code",
   "execution_count": null,
   "metadata": {},
   "outputs": [],
   "source": []
  }
 ],
 "metadata": {
  "kernelspec": {
   "display_name": "Python 3",
   "language": "python",
   "name": "python3"
  },
  "language_info": {
   "codemirror_mode": {
    "name": "ipython",
    "version": 3
   },
   "file_extension": ".py",
   "mimetype": "text/x-python",
   "name": "python",
   "nbconvert_exporter": "python",
   "pygments_lexer": "ipython3",
   "version": "3.7.6"
  }
 },
 "nbformat": 4,
 "nbformat_minor": 4
}
