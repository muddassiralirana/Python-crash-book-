{
 "cells": [
  {
   "cell_type": "markdown",
   "metadata": {},
   "source": [
    "# Files and Exceptions"
   ]
  },
  {
   "cell_type": "markdown",
   "metadata": {},
   "source": [
    "## Handling the ZeroDivisionError Exception"
   ]
  },
  {
   "cell_type": "code",
   "execution_count": 5,
   "metadata": {},
   "outputs": [
    {
     "name": "stdout",
     "output_type": "stream",
     "text": [
      "enter a number:  3\n",
      "enter a number:  3\n",
      "TypeError\n"
     ]
    }
   ],
   "source": [
    "try:\n",
    "    a=input(\"enter a number:  \")\n",
    "    b=input(\"enter a number:  \")\n",
    "    c=a/b\n",
    "    print(c)\n",
    "except ZeroDivisionError:\n",
    "    print(\"exeception is caugth\")\n",
    "except ValueError:\n",
    "    print(\"value error is caugth\")\n",
    "except TypeError:\n",
    "    print(\"TypeError\")\n"
   ]
  },
  {
   "cell_type": "code",
   "execution_count": 8,
   "metadata": {},
   "outputs": [
    {
     "name": "stdout",
     "output_type": "stream",
     "text": [
      "enter a number:  3\n",
      "enter a number:  0\n",
      "handeled error division by zero\n"
     ]
    }
   ],
   "source": [
    "try:\n",
    "    a=int(input(\"enter a number:  \"))\n",
    "    b=int(input(\"enter a number:  \"))\n",
    "    c=a/b\n",
    "    print(c)\n",
    "except Exception as e:\n",
    "    print(\"handeled error \" + str(e))"
   ]
  },
  {
   "cell_type": "code",
   "execution_count": 14,
   "metadata": {},
   "outputs": [],
   "source": [
    "class man():\n",
    "    def __init__(self,name,age):\n",
    "        if age<40:\n",
    "            raise Exception(\"this age is no requried\")\n",
    "        self.name=name\n",
    "        self.age=age\n",
    "        "
   ]
  },
  {
   "cell_type": "code",
   "execution_count": 15,
   "metadata": {},
   "outputs": [
    {
     "name": "stdout",
     "output_type": "stream",
     "text": [
      "enter a age  44\n"
     ]
    }
   ],
   "source": [
    "age=int(input(\"enter a age  \"))\n",
    "\n",
    "man1=man(\"ali\",age)"
   ]
  },
  {
   "cell_type": "code",
   "execution_count": 18,
   "metadata": {},
   "outputs": [
    {
     "name": "stdout",
     "output_type": "stream",
     "text": [
      "enter a age  44\n",
      "44\n"
     ]
    }
   ],
   "source": [
    "try:\n",
    "    age=int(input(\"enter a age  \"))\n",
    "\n",
    "    man1=man(\"ali\",age)\n",
    "except Exception as e:\n",
    "    print(\"exception nis \"+ str(e))\n",
    "else:\n",
    "    print(man1.age)"
   ]
  },
  {
   "cell_type": "code",
   "execution_count": 20,
   "metadata": {},
   "outputs": [
    {
     "name": "stdout",
     "output_type": "stream",
     "text": [
      "enter a num ber : 2\n",
      "enter a num ber : 2\n",
      "1.0\n",
      "exception is : list index out of range\n",
      "my name is rana\n"
     ]
    }
   ],
   "source": [
    "try:\n",
    "    a=int(input(\"enter a num ber : \"))\n",
    "    b=int(input(\"enter a num ber : \"))\n",
    "    c=a/b\n",
    "    print(c)\n",
    "    d=[]\n",
    "    print(d[4])\n",
    "except Exception as e:\n",
    "    print(\"exception is : \" +str(e))\n",
    "\n",
    "finally:\n",
    "    print(\"my name is rana\")"
   ]
  },
  {
   "cell_type": "code",
   "execution_count": null,
   "metadata": {},
   "outputs": [],
   "source": []
  }
 ],
 "metadata": {
  "kernelspec": {
   "display_name": "Python 3",
   "language": "python",
   "name": "python3"
  },
  "language_info": {
   "codemirror_mode": {
    "name": "ipython",
    "version": 3
   },
   "file_extension": ".py",
   "mimetype": "text/x-python",
   "name": "python",
   "nbconvert_exporter": "python",
   "pygments_lexer": "ipython3",
   "version": "3.7.6"
  }
 },
 "nbformat": 4,
 "nbformat_minor": 4
}
